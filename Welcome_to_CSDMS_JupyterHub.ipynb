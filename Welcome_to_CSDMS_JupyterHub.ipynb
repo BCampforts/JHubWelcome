{
 "cells": [
  {
   "cell_type": "markdown",
   "metadata": {},
   "source": [
    "![Changing_landscapes2021](media/Changing_landscapes2021_a.jpg)"
   ]
  },
  {
   "cell_type": "markdown",
   "metadata": {},
   "source": [
    "# Welcome to the JupyterHub of CSDMS\n",
    "\n",
    "For more information, see [here](https://csdms.colorado.edu/wiki/JupyterHub). If you can execute the following block of code, you have successfully created an account on the CSDMS JupyterHub. \n",
    "Move your cursor in the code block below and press `shift`+`enter` to execute. "
   ]
  },
  {
   "cell_type": "code",
   "execution_count": null,
   "metadata": {},
   "outputs": [],
   "source": [
    "print(\"This is a simple test\")\n",
    "a = 99\n",
    "b = 999\n",
    "print(a-b)"
   ]
  }
 ],
 "metadata": {
  "kernelspec": {
   "display_name": "Python 3",
   "language": "python",
   "name": "python3"
  },
  "language_info": {
   "codemirror_mode": {
    "name": "ipython",
    "version": 3
   },
   "file_extension": ".py",
   "mimetype": "text/x-python",
   "name": "python",
   "nbconvert_exporter": "python",
   "pygments_lexer": "ipython3",
   "version": "3.9.4"
  }
 },
 "nbformat": 4,
 "nbformat_minor": 2
}
